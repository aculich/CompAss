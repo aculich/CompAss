{
 "cells": [
  {
   "cell_type": "markdown",
   "metadata": {},
   "source": [
    "# Installing Python Packages\n",
    "When you have installed Python 3 by installing Anaconda, you already have a treasure trove of important Python packages, including `Pandas` (for data manipulation), `bokeh` (interactive visualisations), `requests` (for downloading from the web), `scikit-learn` (machine learning) etc.\n",
    "\n",
    "Inevitably, we will be using packages not included in the standard Anaconda distribution. Before they can be imported in a Python script such packages need to be installed. A package needs to be *imported* every time when a script is started. It needs to be *installed* only once (and updated, if necessary).\n",
    "\n",
    "This notebook will install the packages that are used in the set of notebooks in this repository. If you need to install more packages, follow the code below. The preferred method is with `conda`, if that doesn't work use `pip`\n",
    "\n",
    "Jake VanderPlas in his [Pythonic Preambulations](https://jakevdp.github.io/) blog devotes an entire [article](https://jakevdp.github.io/blog/2017/12/05/installing-python-packages-from-jupyter/) on installing Python packages from inside a Jupyter Notebook; the code below is taken from that source.\n",
    "\n",
    "# TODO\n",
    "create a list of packages to be installed. pip seems to work better than conda."
   ]
  },
  {
   "cell_type": "code",
   "execution_count": 1,
   "metadata": {
    "collapsed": true
   },
   "outputs": [],
   "source": [
    "import sys"
   ]
  },
  {
   "cell_type": "markdown",
   "metadata": {},
   "source": [
    "# 1.1 Preferred: Install with Conda"
   ]
  },
  {
   "cell_type": "code",
   "execution_count": 2,
   "metadata": {
    "collapsed": false
   },
   "outputs": [
    {
     "name": "stdout",
     "output_type": "stream",
     "text": [
      "Fetching package metadata .........\n",
      "Solving package specifications: ..........\n",
      "\n",
      "Package plan for installation in environment C:\\Users\\veldhuis\\AppData\\Local\\Continuum\\Anaconda3:\n",
      "\n",
      "The following packages will be downloaded:\n",
      "\n",
      "    package                    |            build\n",
      "    ---------------------------|-----------------\n",
      "    vc-14                      |                0          703 B\n",
      "    requests-2.14.2            |           py35_0         705 KB\n",
      "    html5lib-0.9999999         |           py35_0         185 KB\n",
      "    cryptography-1.7.1         |           py35_0         353 KB\n",
      "    pyopenssl-17.0.0           |           py35_0          76 KB\n",
      "    conda-4.3.30               |   py35hec795fb_0         541 KB\n",
      "    ------------------------------------------------------------\n",
      "                                           Total:         1.8 MB\n",
      "\n",
      "The following NEW packages will be INSTALLED:\n",
      "\n",
      "    html5lib:     0.9999999-py35_0\n",
      "    vc:           14-0            \n",
      "\n",
      "The following packages will be UPDATED:\n",
      "\n",
      "    conda:        4.2.9-py35_0     --> 4.3.30-py35hec795fb_0\n",
      "    cryptography: 1.3-py35_0       --> 1.7.1-py35_0         \n",
      "    pyopenssl:    0.15.1-py35_2    --> 17.0.0-py35_0        \n",
      "    requests:     2.9.1-py35_0     --> 2.14.2-py35_0        \n",
      "\n",
      "Fetching packages ...\n",
      "vc-14-0.tar.bz   0% |                              | ETA:  --:--:--   0.00  B/s\n",
      "vc-14-0.tar.bz 100% |###############################| ETA:  0:00:00   0.00  B/s\n",
      "vc-14-0.tar.bz 100% |###############################| Time: 0:00:00  45.06 kB/s\n",
      "\n",
      "requests-2.14.   0% |                              | ETA:  --:--:--   0.00  B/s\n",
      "requests-2.14.   2% |                               | Time: 0:00:00   0.00  B/s\n",
      "requests-2.14.   4% |#                              | Time: 0:00:00   0.00  B/s\n",
      "requests-2.14.   6% |##                             | Time: 0:00:00   0.00  B/s\n",
      "requests-2.14.   9% |##                             | Time: 0:00:00   0.00  B/s\n",
      "requests-2.14.  11% |###                            | Time: 0:00:00   0.00  B/s\n",
      "requests-2.14.  13% |####                           | Time: 0:00:00   6.30 MB/s\n",
      "requests-2.14.  15% |####                           | Time: 0:00:00   7.35 MB/s\n",
      "requests-2.14.  18% |#####                          | Time: 0:00:00   8.40 MB/s\n",
      "requests-2.14.  20% |######                         | Time: 0:00:00   9.45 MB/s\n",
      "requests-2.14.  22% |#######                        | Time: 0:00:00  10.50 MB/s\n",
      "requests-2.14.  24% |#######                        | Time: 0:00:00  11.55 MB/s\n",
      "requests-2.14.  27% |########                       | Time: 0:00:00  12.60 MB/s\n",
      "requests-2.14.  29% |#########                      | Time: 0:00:00  13.65 MB/s\n",
      "requests-2.14.  31% |#########                      | Time: 0:00:00  14.70 MB/s\n",
      "requests-2.14.  34% |##########                     | Time: 0:00:00  15.75 MB/s\n",
      "requests-2.14.  36% |###########                    | Time: 0:00:00  16.80 MB/s\n",
      "requests-2.14.  38% |###########                    | Time: 0:00:00   8.93 MB/s\n",
      "requests-2.14.  40% |############                   | Time: 0:00:00   9.45 MB/s\n",
      "requests-2.14.  43% |#############                  | Time: 0:00:00   9.98 MB/s\n",
      "requests-2.14.  45% |##############                 | Time: 0:00:00  10.50 MB/s\n",
      "requests-2.14.  47% |##############                 | Time: 0:00:00  11.03 MB/s\n",
      "requests-2.14.  49% |###############                | Time: 0:00:00  11.55 MB/s\n",
      "requests-2.14.  52% |################               | Time: 0:00:00  12.08 MB/s\n",
      "requests-2.14.  54% |################               | Time: 0:00:00  12.60 MB/s\n",
      "requests-2.14.  56% |#################              | Time: 0:00:00  13.13 MB/s\n",
      "requests-2.14.  59% |##################             | Time: 0:00:00  13.65 MB/s\n",
      "requests-2.14.  61% |###################            | Time: 0:00:00  14.18 MB/s\n",
      "requests-2.14.  63% |###################            | Time: 0:00:00   9.80 MB/s\n",
      "requests-2.14.  65% |####################           | Time: 0:00:00  10.15 MB/s\n",
      "requests-2.14.  68% |#####################          | Time: 0:00:00  10.50 MB/s\n",
      "requests-2.14.  70% |#####################          | Time: 0:00:00  10.85 MB/s\n",
      "requests-2.14.  72% |######################         | Time: 0:00:00  11.20 MB/s\n",
      "requests-2.14.  74% |#######################        | Time: 0:00:00  11.55 MB/s\n",
      "requests-2.14.  77% |#######################        | Time: 0:00:00  11.90 MB/s\n",
      "requests-2.14.  79% |########################       | Time: 0:00:00  12.25 MB/s\n",
      "requests-2.14.  81% |#########################      | Time: 0:00:00  12.60 MB/s\n",
      "requests-2.14.  83% |##########################     | Time: 0:00:00  12.95 MB/s\n",
      "requests-2.14.  86% |##########################     | Time: 0:00:00  13.30 MB/s\n",
      "requests-2.14.  88% |###########################    | Time: 0:00:00  13.65 MB/s\n",
      "requests-2.14.  90% |############################   | Time: 0:00:00  10.50 MB/s\n",
      "requests-2.14.  93% |############################   | Time: 0:00:00  10.77 MB/s\n",
      "requests-2.14.  95% |#############################  | Time: 0:00:00  11.03 MB/s\n",
      "requests-2.14.  97% |############################## | Time: 0:00:00  11.29 MB/s\n",
      "requests-2.14.  99% |############################## | Time: 0:00:00  11.55 MB/s\n",
      "requests-2.14. 100% |###############################| Time: 0:00:00  11.57 MB/s\n",
      "requests-2.14. 100% |###############################| Time: 0:00:00   9.25 MB/s\n",
      "\n",
      "html5lib-0.999   0% |                              | ETA:  --:--:--   0.00  B/s\n",
      "html5lib-0.999   8% |##                             | Time: 0:00:00   0.00  B/s\n",
      "html5lib-0.999  17% |#####                          | Time: 0:00:00   0.00  B/s\n",
      "html5lib-0.999  25% |########                       | Time: 0:00:00   3.15 MB/s\n",
      "html5lib-0.999  34% |##########                     | Time: 0:00:00   4.20 MB/s\n",
      "html5lib-0.999  43% |#############                  | Time: 0:00:00   5.25 MB/s\n",
      "html5lib-0.999  51% |################               | Time: 0:00:00   6.30 MB/s\n",
      "html5lib-0.999  60% |##################             | Time: 0:00:00   7.35 MB/s\n",
      "html5lib-0.999  69% |#####################          | Time: 0:00:00   8.40 MB/s\n",
      "html5lib-0.999  77% |########################       | Time: 0:00:00   9.45 MB/s\n",
      "html5lib-0.999  86% |##########################     | Time: 0:00:00  10.50 MB/s\n",
      "html5lib-0.999  95% |#############################  | Time: 0:00:00  11.55 MB/s\n",
      "html5lib-0.999 100% |###############################| Time: 0:00:00  12.12 MB/s\n",
      "html5lib-0.999 100% |###############################| Time: 0:00:00   6.06 MB/s\n",
      "\n",
      "cryptography-1   0% |                              | ETA:  --:--:--   0.00  B/s\n",
      "cryptography-1   4% |#                              | Time: 0:00:00   0.00  B/s\n",
      "cryptography-1   9% |##                             | Time: 0:00:00   0.00  B/s\n",
      "cryptography-1  13% |####                           | Time: 0:00:00   0.00  B/s\n",
      "cryptography-1  18% |#####                          | Time: 0:00:00   0.00  B/s\n",
      "cryptography-1  22% |#######                        | Time: 0:00:00   0.00  B/s\n",
      "cryptography-1  27% |########                       | Time: 0:00:00   6.30 MB/s\n",
      "cryptography-1  31% |#########                      | Time: 0:00:00   7.35 MB/s\n",
      "cryptography-1  36% |###########                    | Time: 0:00:00   8.40 MB/s\n",
      "cryptography-1  40% |############                   | Time: 0:00:00   9.45 MB/s\n",
      "cryptography-1  45% |##############                 | Time: 0:00:00  10.50 MB/s\n",
      "cryptography-1  49% |###############                | Time: 0:00:00  11.55 MB/s\n",
      "cryptography-1  54% |################               | Time: 0:00:00  12.60 MB/s\n",
      "cryptography-1  59% |##################             | Time: 0:00:00  13.65 MB/s\n",
      "cryptography-1  63% |###################            | Time: 0:00:00  14.70 MB/s\n",
      "cryptography-1  68% |#####################          | Time: 0:00:00  15.75 MB/s\n",
      "cryptography-1  72% |######################         | Time: 0:00:00  16.80 MB/s\n",
      "cryptography-1  77% |#######################        | Time: 0:00:00   8.93 MB/s\n",
      "cryptography-1  81% |#########################      | Time: 0:00:00   9.45 MB/s\n",
      "cryptography-1  86% |##########################     | Time: 0:00:00   9.98 MB/s\n",
      "cryptography-1  90% |############################   | Time: 0:00:00  10.50 MB/s\n",
      "cryptography-1  95% |#############################  | Time: 0:00:00  11.03 MB/s\n",
      "cryptography-1  99% |############################## | Time: 0:00:00  11.55 MB/s\n",
      "cryptography-1 100% |###############################| Time: 0:00:00  11.57 MB/s\n",
      "cryptography-1 100% |###############################| Time: 0:00:00   3.86 MB/s\n",
      "\n",
      "pyopenssl-17.0   0% |                              | ETA:  --:--:--   0.00  B/s\n",
      "pyopenssl-17.0  21% |######                         | Time: 0:00:00   0.00  B/s\n",
      "pyopenssl-17.0  42% |#############                  | Time: 0:00:00   0.00  B/s\n",
      "pyopenssl-17.0  63% |###################            | Time: 0:00:00   0.00  B/s\n",
      "pyopenssl-17.0  84% |##########################     | Time: 0:00:00   0.00  B/s\n",
      "pyopenssl-17.0 100% |###############################| Time: 0:00:00   0.00  B/s\n",
      "pyopenssl-17.0 100% |###############################| Time: 0:00:00   4.98 MB/s\n",
      "\n",
      "conda-4.3.30-p   0% |                              | ETA:  --:--:--   0.00  B/s\n",
      "conda-4.3.30-p   2% |                               | Time: 0:00:00   0.00  B/s\n",
      "conda-4.3.30-p   5% |#                              | Time: 0:00:00   0.00  B/s\n",
      "conda-4.3.30-p   8% |##                             | Time: 0:00:00   3.15 MB/s\n",
      "conda-4.3.30-p  11% |###                            | Time: 0:00:00   4.20 MB/s\n",
      "conda-4.3.30-p  14% |####                           | Time: 0:00:00   5.25 MB/s\n",
      "conda-4.3.30-p  17% |#####                          | Time: 0:00:00   6.30 MB/s\n",
      "conda-4.3.30-p  20% |######                         | Time: 0:00:00   7.35 MB/s\n",
      "conda-4.3.30-p  23% |#######                        | Time: 0:00:00   8.40 MB/s\n",
      "conda-4.3.30-p  26% |########                       | Time: 0:00:00   9.45 MB/s\n",
      "conda-4.3.30-p  29% |#########                      | Time: 0:00:00  10.50 MB/s\n",
      "conda-4.3.30-p  32% |##########                     | Time: 0:00:00  11.55 MB/s\n",
      "conda-4.3.30-p  35% |###########                    | Time: 0:00:00  12.60 MB/s\n",
      "conda-4.3.30-p  38% |###########                    | Time: 0:00:00  13.65 MB/s\n",
      "conda-4.3.30-p  41% |############                   | Time: 0:00:00   7.35 MB/s\n",
      "conda-4.3.30-p  44% |#############                  | Time: 0:00:00   7.88 MB/s\n",
      "conda-4.3.30-p  47% |##############                 | Time: 0:00:00   8.40 MB/s\n",
      "conda-4.3.30-p  50% |###############                | Time: 0:00:00   8.93 MB/s\n",
      "conda-4.3.30-p  53% |################               | Time: 0:00:00   9.45 MB/s\n",
      "conda-4.3.30-p  56% |#################              | Time: 0:00:00   9.98 MB/s\n",
      "conda-4.3.30-p  59% |##################             | Time: 0:00:00  10.50 MB/s\n",
      "conda-4.3.30-p  62% |###################            | Time: 0:00:00  11.03 MB/s\n",
      "conda-4.3.30-p  65% |####################           | Time: 0:00:00  11.55 MB/s\n",
      "conda-4.3.30-p  68% |#####################          | Time: 0:00:00  12.08 MB/s\n",
      "conda-4.3.30-p  71% |######################         | Time: 0:00:00  12.60 MB/s\n",
      "conda-4.3.30-p  73% |######################         | Time: 0:00:00  13.13 MB/s\n",
      "conda-4.3.30-p  76% |#######################        | Time: 0:00:00   9.10 MB/s\n",
      "conda-4.3.30-p  79% |########################       | Time: 0:00:00   9.45 MB/s\n",
      "conda-4.3.30-p  82% |#########################      | Time: 0:00:00   9.80 MB/s\n",
      "conda-4.3.30-p  85% |##########################     | Time: 0:00:00  10.15 MB/s\n",
      "conda-4.3.30-p  88% |###########################    | Time: 0:00:00  10.50 MB/s\n",
      "conda-4.3.30-p  91% |############################   | Time: 0:00:00  10.85 MB/s\n",
      "conda-4.3.30-p  94% |#############################  | Time: 0:00:00  11.20 MB/s\n",
      "conda-4.3.30-p  97% |############################## | Time: 0:00:00  11.55 MB/s\n",
      "conda-4.3.30-p 100% |###############################| Time: 0:00:00  11.83 MB/s\n",
      "conda-4.3.30-p 100% |###############################| Time: 0:00:00   4.44 MB/s\n",
      "\n",
      "Extracting packages ...\n",
      "[                    ]|                                                  |   0%\n",
      "[vc                  ]|                                                  |   0%\n",
      "[requests            ]|########                                          |  16%\n",
      "[html5lib            ]|################                                  |  33%\n",
      "[cryptography        ]|#########################                         |  50%\n",
      "[pyopenssl           ]|#################################                 |  66%\n",
      "[conda               ]|#########################################         |  83%\n",
      "[      COMPLETE      ]|##################################################| 100%\n",
      "\n",
      "Unlinking packages ...\n",
      "[      COMPLETE      ]|                                                  |   0%\n",
      "[conda               ]|                                                  |   0%\n",
      "[conda               ]|                                                  |   0%\n",
      "[cryptography        ]|############                                      |  25%\n",
      "[pyopenssl           ]|#########################                         |  50%\n",
      "[requests            ]|#####################################             |  75%\n",
      "[      COMPLETE      ]|##################################################| 100%\n",
      "\n",
      "Linking packages ...\n",
      "[      COMPLETE      ]|                                                  |   0%\n",
      "[vc                  ]|                                                  |   0%\n",
      "[vc                  ]|                                                  |   0%\n",
      "[requests            ]|########                                          |  16%\n",
      "[html5lib            ]|################                                  |  33%\n",
      "[cryptography        ]|#########################                         |  50%\n",
      "[pyopenssl           ]|#################################                 |  66%\n",
      "[conda               ]|#########################################         |  83%\n",
      "[      COMPLETE      ]|##################################################| 100%\n",
      "\n"
     ]
    }
   ],
   "source": [
    "!conda install --yes --prefix {sys.prefix} html5lib"
   ]
  },
  {
   "cell_type": "code",
   "execution_count": null,
   "metadata": {
    "collapsed": false
   },
   "outputs": [],
   "source": [
    "!conda update --yes --prefix {sys.prefix} pandas"
   ]
  },
  {
   "cell_type": "markdown",
   "metadata": {},
   "source": [
    "# 2.1 Install with Pip"
   ]
  },
  {
   "cell_type": "code",
   "execution_count": 3,
   "metadata": {
    "collapsed": false
   },
   "outputs": [
    {
     "name": "stdout",
     "output_type": "stream",
     "text": [
      "Requirement already satisfied: objectpath in c:\\users\\niek\\anaconda3\\lib\\site-packages\n"
     ]
    }
   ],
   "source": [
    "!{sys.executable} -m pip install objectpath"
   ]
  },
  {
   "cell_type": "code",
   "execution_count": 5,
   "metadata": {
    "collapsed": false
   },
   "outputs": [
    {
     "name": "stdout",
     "output_type": "stream",
     "text": [
      "Requirement already up-to-date: pandas in c:\\users\\niek\\anaconda3\\lib\\site-packages\n",
      "Collecting python-dateutil>=2.5.0 (from pandas)\n",
      "  Downloading https://files.pythonhosted.org/packages/cf/f5/af2b09c957ace60dcfac112b669c45c8c97e32f94aa8b56da4c6d1682825/python_dateutil-2.7.3-py2.py3-none-any.whl (211kB)\n",
      "Collecting pytz>=2011k (from pandas)\n",
      "  Downloading https://files.pythonhosted.org/packages/30/4e/27c34b62430286c6d59177a0842ed90dc789ce5d1ed740887653b898779a/pytz-2018.5-py2.py3-none-any.whl (510kB)\n",
      "Collecting numpy>=1.9.0 (from pandas)\n",
      "  Downloading https://files.pythonhosted.org/packages/62/47/54baeff52b37be258dd97442f52d8a2a9c27c4af8fcbc5467827c5ae5eed/numpy-1.15.0-cp35-none-win_amd64.whl (13.5MB)\n",
      "Collecting six>=1.5 (from python-dateutil>=2.5.0->pandas)\n",
      "  Downloading https://files.pythonhosted.org/packages/67/4b/141a581104b1f6397bfa78ac9d43d8ad29a7ca43ea90a2d863fe3056e86a/six-1.11.0-py2.py3-none-any.whl\n",
      "Installing collected packages: six, python-dateutil, pytz, numpy\n",
      "  Found existing installation: six 1.10.0\n",
      "    Uninstalling six-1.10.0:\n",
      "      Successfully uninstalled six-1.10.0\n",
      "  Found existing installation: python-dateutil 2.5.1\n",
      "    Uninstalling python-dateutil-2.5.1:\n",
      "      Successfully uninstalled python-dateutil-2.5.1\n",
      "  Found existing installation: pytz 2016.2\n",
      "    Uninstalling pytz-2016.2:\n",
      "      Successfully uninstalled pytz-2016.2\n",
      "  Found existing installation: numpy 1.11.3\n",
      "    Uninstalling numpy-1.11.3:\n",
      "      Successfully uninstalled numpy-1.11.3\n",
      "Successfully installed numpy-1.15.0 python-dateutil-2.7.3 pytz-2018.5 six-1.11.0\n"
     ]
    },
    {
     "name": "stderr",
     "output_type": "stream",
     "text": [
      "Cache entry deserialization failed, entry ignored\n",
      "    DEPRECATION: Uninstalling a distutils installed project (six) has been deprecated and will be removed in a future version. This is due to the fact that uninstalling a distutils project will only partially uninstall the project.\n",
      "    DEPRECATION: Uninstalling a distutils installed project (pytz) has been deprecated and will be removed in a future version. This is due to the fact that uninstalling a distutils project will only partially uninstall the project.\n"
     ]
    }
   ],
   "source": [
    "!{sys.executable} -m pip install --upgrade pandas"
   ]
  },
  {
   "cell_type": "code",
   "execution_count": null,
   "metadata": {
    "collapsed": true
   },
   "outputs": [],
   "source": []
  }
 ],
 "metadata": {
  "kernelspec": {
   "display_name": "Python 3",
   "language": "python",
   "name": "python3"
  },
  "language_info": {
   "codemirror_mode": {
    "name": "ipython",
    "version": 3
   },
   "file_extension": ".py",
   "mimetype": "text/x-python",
   "name": "python",
   "nbconvert_exporter": "python",
   "pygments_lexer": "ipython3",
   "version": "3.5.2"
  }
 },
 "nbformat": 4,
 "nbformat_minor": 0
}
